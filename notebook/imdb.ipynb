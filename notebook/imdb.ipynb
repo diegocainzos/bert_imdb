{
 "cells": [
  {
   "cell_type": "markdown",
   "metadata": {},
   "source": [
    "## Imports"
   ]
  },
  {
   "cell_type": "code",
   "execution_count": null,
   "metadata": {},
   "outputs": [],
   "source": [
    "import numpy as np\n",
    "import re\n",
    "from sklearn.datasets import load_files\n",
    "from sklearn.model_selection import train_test_split\n",
    "from sklearn.svm import SVC\n",
    "from sklearn.metrics import accuracy_score, classification_report\n",
    "from nltk.corpus import stopwords\n",
    "from nltk.stem import WordNetLemmatizer\n",
    "import matplotlib.pyplot as plt\n",
    "# Download NLTK resources\n",
    "import nltk\n",
    "nltk.download('stopwords')\n",
    "nltk.download('wordnet')"
   ]
  },
  {
   "cell_type": "markdown",
   "metadata": {},
   "source": [
    "# Cargar Dataset"
   ]
  },
  {
   "cell_type": "code",
   "execution_count": null,
   "metadata": {},
   "outputs": [],
   "source": [
    "from datasets import load_dataset\n",
    "\n",
    "dataset = load_dataset(\"stanfordnlp/imdb\")\n",
    "df = dataset[\"train\"].to_pandas()\n",
    "print(\"Número de ejemplos del dataset:\", len(df))"
   ]
  },
  {
   "cell_type": "code",
   "execution_count": null,
   "metadata": {},
   "outputs": [],
   "source": [
    "df.head(5)"
   ]
  },
  {
   "cell_type": "code",
   "execution_count": null,
   "metadata": {},
   "outputs": [],
   "source": [
    "print(df.text[270][:46])\n",
    "print('neg' if df.label[270] == 0 else 'pos'  )"
   ]
  },
  {
   "cell_type": "code",
   "execution_count": null,
   "metadata": {},
   "outputs": [],
   "source": [
    "print(df.text[14500][103:174])\n",
    "print('neg' if df.label[14500] == 0 else 'pos'  )"
   ]
  },
  {
   "cell_type": "markdown",
   "metadata": {},
   "source": [
    "# Preprocesado de texto"
   ]
  },
  {
   "cell_type": "code",
   "execution_count": null,
   "metadata": {},
   "outputs": [],
   "source": [
    "stop_words = set(stopwords.words('english'))\n",
    "lemmatizer = WordNetLemmatizer()\n",
    "\n",
    "def preprocess_text(text):\n",
    "    # Remove HTML tags\n",
    "    text = re.sub(r'<[^>]*>', '', text)\n",
    "    # Remove special characters and punctuation\n",
    "    text = re.sub(r'[^a-zA-Z\\s]', '', text)\n",
    "    # Convert to lowercase\n",
    "    text = text.lower()\n",
    "    # Tokenization and lemmatization\n",
    "    tokens = [lemmatizer.lemmatize(word) for word in text.split() if word not in stop_words]\n",
    "    return ' '.join(tokens)"
   ]
  },
  {
   "cell_type": "markdown",
   "metadata": {},
   "source": [
    "# Vectorizing\n"
   ]
  },
  {
   "cell_type": "code",
   "execution_count": null,
   "metadata": {},
   "outputs": [],
   "source": [
    "from sklearn.feature_extraction.text import TfidfVectorizer\n",
    "\n",
    "def tfidf_features(X_train, X_test):\n",
    "    tfidf_vectorizer = TfidfVectorizer()\n",
    "    tfidf_matrix = tfidf_vectorizer.fit(X_train)\n",
    "    x_train_tfidf = tfidf_matrix.transform(X_train)\n",
    "    x_test_tfidf = tfidf_matrix.transform(X_test)\n",
    "    return x_train_tfidf, x_test_tfidf"
   ]
  },
  {
   "cell_type": "code",
   "execution_count": 46,
   "metadata": {},
   "outputs": [],
   "source": [
    "from sentence_transformers import SentenceTransformer\n",
    "\n",
    "def embeddings_features(X_train, X_test):\n",
    "    model = SentenceTransformer('sentence-transformers/all-mpnet-base-v2')\n",
    "    X_train_embeddings = model.encode(X_train)\n",
    "    X_test_embeddings = model.encode(X_test)\n",
    "    return np.array(X_train_embeddings), np.array(X_test_embeddings)"
   ]
  },
  {
   "cell_type": "code",
   "execution_count": null,
   "metadata": {},
   "outputs": [],
   "source": [
    "from sklearn.model_selection import train_test_split\n",
    "\n",
    "X_preprocessed = [preprocess_text(text) for text in df.text]\n",
    "\n",
    "train_test_sets = []\n",
    "\n",
    "for i in range(5):\n",
    "    X_train, X_test, y_train, y_test = train_test_split(X_preprocessed, df.label, test_size=0.05, train_size=0.2, random_state=i, shuffle=True)\n",
    "    train_test_sets.append((X_train, X_test, y_train, y_test))"
   ]
  },
  {
   "cell_type": "markdown",
   "metadata": {},
   "source": [
    "# Comparador clasificadores"
   ]
  },
  {
   "cell_type": "code",
   "execution_count": 53,
   "metadata": {},
   "outputs": [],
   "source": [
    "import tensorflow.keras as keras\n",
    "from keras.layers import Dropout, Dense, Reshape, LSTM, Input, Conv1D, Input, Dense,MaxPooling1D, Flatten, Dropout\n",
    "import numpy as np\n",
    "\n",
    "modelNN = keras.Sequential([\n",
    "\n",
    "    keras.layers.Dense(5, activation='relu'),\n",
    "    keras.layers.Dropout(0.1),\n",
    "    keras.layers.Dense(1, activation='sigmoid')  # Capa de salida con activación sigmoide\n",
    "])\n",
    "modelRNN = keras.Sequential([\n",
    "    #Input(shape=(32,24)),\n",
    "    Reshape((32,24)),\n",
    "    LSTM(128, return_sequences=True,activation='relu'),\n",
    "    Dropout(0.2),\n",
    "    LSTM(64, activation='relu'),\n",
    "    Dropout(0.2),\n",
    "    Dense(20, activation='relu'),\n",
    "    Dense(1, activation='sigmoid')\n",
    "])\n",
    "\n",
    "modelCNN = keras.Sequential([\n",
    "    Reshape((32,24)),\n",
    "    Conv1D(32, 5, activation='relu'),\n",
    "    Dropout(0.2),\n",
    "    MaxPooling1D(2),\n",
    "    Conv1D(32, 5, activation='relu'),\n",
    "    Dropout(0.2),\n",
    "    MaxPooling1D(2),\n",
    "    Flatten(),\n",
    "\n",
    "    Dense(20, activation='relu'),\n",
    "\n",
    "    Dense(1, activation='sigmoid')\n",
    "])\n",
    "modelNN.compile(optimizer='adam', loss='binary_crossentropy', metrics=['accuracy'])\n",
    "modelRNN.compile(optimizer='adam', loss='mse', metrics=['accuracy'])\n",
    "modelCNN.compile(optimizer='adam', loss='binary_crossentropy', metrics=['accuracy'])\n",
    "\n",
    "def reshape(X):\n",
    "    return X.reshape(X.shape[0], 32, 24)\n",
    "\n",
    "def threshold_search(y_true, y_proba):\n",
    "    best_threshold = 0\n",
    "    best_score = 0\n",
    "    for threshold in np.arange(0, 1, 0.01):\n",
    "        score = accuracy_score(y_true, (y_proba > threshold).astype(int))\n",
    "        if score > best_score:\n",
    "            best_threshold = threshold\n",
    "            best_score = score\n",
    "    return best_threshold, best_score\n",
    "\n",
    "\n",
    "def train_nn(model, X_train, y_train, X_test, y_test):\n",
    "    # Train the model with the validation callback\n",
    "    model.fit(X_train, y_train, epochs=25, batch_size=32, validation_data=(X_test, y_test), callbacks=[keras.callbacks.EarlyStopping(monitor='val_loss', patience=3)],verbose=0)\n",
    "    \n",
    "    # Predict on the test data\n",
    "    y_pred = model.predict(X_test)\n",
    "    \n",
    "    # Search for the optimal threshold\n",
    "    threshold, acc = threshold_search(y_test, y_pred)\n",
    "    \n",
    "    # Define the custom rounding function\n",
    "\n",
    "\n",
    "    custom_round = np.vectorize(lambda n: int(n) if n - int(n) < threshold else int(n) + 1)    \n",
    "    # Print the classification report\n",
    "    return([custom_round(pred) for pred in y_pred])"
   ]
  },
  {
   "cell_type": "code",
   "execution_count": null,
   "metadata": {},
   "outputs": [],
   "source": [
    "#modelCNN.fit(X_train, y_train, epochs=50, batch_size=32, validation_split=0.2, callbacks=[keras.callbacks.EarlyStopping(monitor='val_loss', patience=4)],verbose=1)\n"
   ]
  },
  {
   "cell_type": "code",
   "execution_count": 54,
   "metadata": {},
   "outputs": [],
   "source": [
    "from sklearn.metrics import precision_recall_fscore_support\n",
    "from sklearn.feature_extraction.text import TfidfVectorizer\n",
    "from sklearn.metrics import classification_report\n",
    "from sklearn.linear_model import LogisticRegression\n",
    "from sklearn.naive_bayes import MultinomialNB\n",
    "from sklearn.naive_bayes import GaussianNB\n",
    "from sklearn.ensemble import RandomForestClassifier\n",
    "from sklearn.neighbors import KNeighborsClassifier\n",
    "from sklearn.metrics import confusion_matrix, ConfusionMatrixDisplay\n",
    "import matplotlib.pyplot as plt\n",
    "import numpy as np\n",
    "\n",
    "\n",
    "\n",
    "def plot_histograms(all_seeds_results):\n",
    "    metrics = ['precision', 'recall', 'fscore']\n",
    "    num_classifiers = len(all_seeds_results)\n",
    "    num_metrics = len(metrics)\n",
    "    bar_width = 0.2  # Ancho de cada barra\n",
    "    index = np.arange(num_classifiers)  # Índices para cada grupo de barras\n",
    "\n",
    "    # Colores distintivos para las barras\n",
    "    colors = plt.cm.tab10(np.linspace(0, 1, num_metrics))\n",
    "\n",
    "    plt.figure(figsize=(10, 6))\n",
    "\n",
    "    for i, metric in enumerate(metrics):\n",
    "        means = [np.mean(data[metric]) for data in all_seeds_results.values()]\n",
    "        stds = [np.std(data[metric]) for data in all_seeds_results.values()]\n",
    "\n",
    "        # Desplazar los índices para cada métrica\n",
    "        shift = bar_width * (i - (num_metrics - 1) / 2)\n",
    "\n",
    "        plt.bar(index + shift, means, bar_width, label=metric.capitalize(), color=colors[i])\n",
    "\n",
    "        # Añadir barras de error\n",
    "        plt.errorbar(index + shift, means, yerr=stds, fmt='none', color='black', capsize=5)\n",
    "\n",
    "    plt.xlabel('Classifier')\n",
    "    plt.ylabel('Mean Value')\n",
    "    plt.title('Mean Metrics by Classifier')\n",
    "    plt.xticks(index, all_seeds_results.keys(), rotation=45)\n",
    "    plt.legend()\n",
    "    plt.ylim(0.7, None)  # Límites del eje y a partir de 0.7\n",
    "    plt.tight_layout()\n",
    "    plt.show()\n",
    "\n",
    "\n",
    "\n",
    "def compare_classifiers(X_train, X_test, y_train, y_test,method='tfidf'):\n",
    "    classifiers_tfid = [\n",
    "        ('Logisti Regression', LogisticRegression(random_state=42)),\n",
    "        ('Gaussian Naive Bayes', MultinomialNB()),\n",
    "        ('Rando Forest', RandomForestClassifier(n_estimators=100, random_state=42)),\n",
    "        ('KNN', KNeighborsClassifier(n_neighbors=5)),\n",
    "        #('Neural Network', model),\n",
    "    ]\n",
    "    classifiers_embeddings =[\n",
    "        ('RNN', modelRNN),\n",
    "        ('CNN', modelCNN),\n",
    "        ('NN', modelNN),\n",
    "        ('Logisti Regression', LogisticRegression(random_state=42)),\n",
    "        ('Gaussian Naive Bayes', GaussianNB()),\n",
    "        ('Rando Forest', RandomForestClassifier(n_estimators=100, random_state=42)),\n",
    "        ('KNN', KNeighborsClassifier(n_neighbors=5)),\n",
    "    ]\n",
    "    if method == 'tfidf':\n",
    "        classifiers = classifiers_tfid\n",
    "    else:\n",
    "        classifiers = classifiers_embeddings\n",
    "    results = {}\n",
    "    for name, clf in classifiers:\n",
    "        if name == 'RNN' or name == 'CNN' or name == 'NN':\n",
    "            if method == 'tfidf':\n",
    "                continue\n",
    "            else:\n",
    "                y_pred = train_nn(clf,X_train, y_train, X_test, y_test)\n",
    "\n",
    "        else:    \n",
    "            clf.fit(X_train, y_train)\n",
    "            y_pred = clf.predict(X_test)\n",
    "        \n",
    "        precision, recall, fscore, _ = precision_recall_fscore_support(y_test, y_pred, average='weighted')\n",
    "        \n",
    "        if name not in results:\n",
    "            results[name] = {'precision': [], 'recall': [], 'fscore': []}\n",
    "        results[name]['precision'].append(precision)\n",
    "        results[name]['recall'].append(recall)\n",
    "        results[name]['fscore'].append(fscore)\n",
    "    return results\n",
    "\n",
    "# Initialize a dictionary to hold all results\n",
    "def compare_seeds(train_test_sets, method='tfidf'):\n",
    "    all_seeds_results = {}\n",
    "\n",
    "    for i, (X_train, X_test, y_train, y_test) in enumerate(train_test_sets):\n",
    "        print(f\"---- Random Seed: {i} ----\")\n",
    "        if method == 'tfidf':\n",
    "            X_train, X_test = tfidf_features(X_train, X_test)\n",
    "        else:\n",
    "            X_train, X_test = embeddings_features(X_train, X_test)\n",
    "        seed_results = compare_classifiers(X_train, X_test, y_train, y_test,method)\n",
    "\n",
    "        for clf_name, metrics in seed_results.items():\n",
    "            if clf_name not in all_seeds_results:\n",
    "                all_seeds_results[clf_name] = {'precision': [], 'recall': [], 'fscore': []}\n",
    "            \n",
    "                \n",
    "            # Accumulate results\n",
    "            for metric_name, metric_values in metrics.items():\n",
    "                all_seeds_results[clf_name][metric_name] += metric_values\n",
    "\n",
    "        # Compute and print averages\n",
    "    for clf_name, metrics in all_seeds_results.items():\n",
    "        print(f'----- {clf_name} Average Metrics -----')\n",
    "        for metric_name, metric_values in metrics.items():\n",
    "            print(f'{metric_name.capitalize()} Avg: {np.mean(metric_values):.4f}')\n",
    "        print('\\n')\n",
    "    plot_histograms(all_seeds_results)\n",
    "    return all_seeds_results\n"
   ]
  },
  {
   "cell_type": "code",
   "execution_count": 50,
   "metadata": {},
   "outputs": [
    {
     "name": "stdout",
     "output_type": "stream",
     "text": [
      "---- Random Seed: 0 ----\n",
      "\u001b[1m40/40\u001b[0m \u001b[32m━━━━━━━━━━━━━━━━━━━━\u001b[0m\u001b[37m\u001b[0m \u001b[1m1s\u001b[0m 11ms/step\n"
     ]
    },
    {
     "name": "stderr",
     "output_type": "stream",
     "text": [
      "C:\\Users\\Diegopolis\\AppData\\Local\\Temp\\ipykernel_18908\\2642748061.py:65: DeprecationWarning: Conversion of an array with ndim > 0 to a scalar is deprecated, and will error in future. Ensure you extract a single element from your array before performing this operation. (Deprecated NumPy 1.25.)\n",
      "  custom_round = lambda n: int(n) if n - int(n) < threshold else int(n) + 1\n"
     ]
    },
    {
     "name": "stdout",
     "output_type": "stream",
     "text": [
      "\u001b[1m40/40\u001b[0m \u001b[32m━━━━━━━━━━━━━━━━━━━━\u001b[0m\u001b[37m\u001b[0m \u001b[1m0s\u001b[0m 2ms/step\n"
     ]
    },
    {
     "name": "stderr",
     "output_type": "stream",
     "text": [
      "C:\\Users\\Diegopolis\\AppData\\Local\\Temp\\ipykernel_18908\\2642748061.py:65: DeprecationWarning: Conversion of an array with ndim > 0 to a scalar is deprecated, and will error in future. Ensure you extract a single element from your array before performing this operation. (Deprecated NumPy 1.25.)\n",
      "  custom_round = lambda n: int(n) if n - int(n) < threshold else int(n) + 1\n"
     ]
    },
    {
     "name": "stdout",
     "output_type": "stream",
     "text": [
      "\u001b[1m40/40\u001b[0m \u001b[32m━━━━━━━━━━━━━━━━━━━━\u001b[0m\u001b[37m\u001b[0m \u001b[1m0s\u001b[0m 871us/step\n"
     ]
    },
    {
     "name": "stderr",
     "output_type": "stream",
     "text": [
      "C:\\Users\\Diegopolis\\AppData\\Local\\Temp\\ipykernel_18908\\2642748061.py:65: DeprecationWarning: Conversion of an array with ndim > 0 to a scalar is deprecated, and will error in future. Ensure you extract a single element from your array before performing this operation. (Deprecated NumPy 1.25.)\n",
      "  custom_round = lambda n: int(n) if n - int(n) < threshold else int(n) + 1\n"
     ]
    },
    {
     "name": "stdout",
     "output_type": "stream",
     "text": [
      "---- Random Seed: 1 ----\n",
      "\u001b[1m40/40\u001b[0m \u001b[32m━━━━━━━━━━━━━━━━━━━━\u001b[0m\u001b[37m\u001b[0m \u001b[1m0s\u001b[0m 6ms/step\n"
     ]
    },
    {
     "name": "stderr",
     "output_type": "stream",
     "text": [
      "C:\\Users\\Diegopolis\\AppData\\Local\\Temp\\ipykernel_18908\\2642748061.py:65: DeprecationWarning: Conversion of an array with ndim > 0 to a scalar is deprecated, and will error in future. Ensure you extract a single element from your array before performing this operation. (Deprecated NumPy 1.25.)\n",
      "  custom_round = lambda n: int(n) if n - int(n) < threshold else int(n) + 1\n"
     ]
    },
    {
     "name": "stdout",
     "output_type": "stream",
     "text": [
      "\u001b[1m40/40\u001b[0m \u001b[32m━━━━━━━━━━━━━━━━━━━━\u001b[0m\u001b[37m\u001b[0m \u001b[1m0s\u001b[0m 1ms/step\n"
     ]
    },
    {
     "name": "stderr",
     "output_type": "stream",
     "text": [
      "C:\\Users\\Diegopolis\\AppData\\Local\\Temp\\ipykernel_18908\\2642748061.py:65: DeprecationWarning: Conversion of an array with ndim > 0 to a scalar is deprecated, and will error in future. Ensure you extract a single element from your array before performing this operation. (Deprecated NumPy 1.25.)\n",
      "  custom_round = lambda n: int(n) if n - int(n) < threshold else int(n) + 1\n"
     ]
    },
    {
     "name": "stdout",
     "output_type": "stream",
     "text": [
      "\u001b[1m40/40\u001b[0m \u001b[32m━━━━━━━━━━━━━━━━━━━━\u001b[0m\u001b[37m\u001b[0m \u001b[1m0s\u001b[0m 458us/step\n"
     ]
    },
    {
     "name": "stderr",
     "output_type": "stream",
     "text": [
      "C:\\Users\\Diegopolis\\AppData\\Local\\Temp\\ipykernel_18908\\2642748061.py:65: DeprecationWarning: Conversion of an array with ndim > 0 to a scalar is deprecated, and will error in future. Ensure you extract a single element from your array before performing this operation. (Deprecated NumPy 1.25.)\n",
      "  custom_round = lambda n: int(n) if n - int(n) < threshold else int(n) + 1\n"
     ]
    },
    {
     "name": "stdout",
     "output_type": "stream",
     "text": [
      "---- Random Seed: 2 ----\n",
      "\u001b[1m40/40\u001b[0m \u001b[32m━━━━━━━━━━━━━━━━━━━━\u001b[0m\u001b[37m\u001b[0m \u001b[1m0s\u001b[0m 6ms/step\n"
     ]
    },
    {
     "name": "stderr",
     "output_type": "stream",
     "text": [
      "C:\\Users\\Diegopolis\\AppData\\Local\\Temp\\ipykernel_18908\\2642748061.py:65: DeprecationWarning: Conversion of an array with ndim > 0 to a scalar is deprecated, and will error in future. Ensure you extract a single element from your array before performing this operation. (Deprecated NumPy 1.25.)\n",
      "  custom_round = lambda n: int(n) if n - int(n) < threshold else int(n) + 1\n"
     ]
    },
    {
     "name": "stdout",
     "output_type": "stream",
     "text": [
      "\u001b[1m40/40\u001b[0m \u001b[32m━━━━━━━━━━━━━━━━━━━━\u001b[0m\u001b[37m\u001b[0m \u001b[1m0s\u001b[0m 754us/step\n"
     ]
    },
    {
     "name": "stderr",
     "output_type": "stream",
     "text": [
      "C:\\Users\\Diegopolis\\AppData\\Local\\Temp\\ipykernel_18908\\2642748061.py:65: DeprecationWarning: Conversion of an array with ndim > 0 to a scalar is deprecated, and will error in future. Ensure you extract a single element from your array before performing this operation. (Deprecated NumPy 1.25.)\n",
      "  custom_round = lambda n: int(n) if n - int(n) < threshold else int(n) + 1\n"
     ]
    },
    {
     "name": "stdout",
     "output_type": "stream",
     "text": [
      "\u001b[1m40/40\u001b[0m \u001b[32m━━━━━━━━━━━━━━━━━━━━\u001b[0m\u001b[37m\u001b[0m \u001b[1m0s\u001b[0m 467us/step\n"
     ]
    },
    {
     "name": "stderr",
     "output_type": "stream",
     "text": [
      "C:\\Users\\Diegopolis\\AppData\\Local\\Temp\\ipykernel_18908\\2642748061.py:65: DeprecationWarning: Conversion of an array with ndim > 0 to a scalar is deprecated, and will error in future. Ensure you extract a single element from your array before performing this operation. (Deprecated NumPy 1.25.)\n",
      "  custom_round = lambda n: int(n) if n - int(n) < threshold else int(n) + 1\n"
     ]
    },
    {
     "name": "stdout",
     "output_type": "stream",
     "text": [
      "---- Random Seed: 3 ----\n",
      "\u001b[1m40/40\u001b[0m \u001b[32m━━━━━━━━━━━━━━━━━━━━\u001b[0m\u001b[37m\u001b[0m \u001b[1m0s\u001b[0m 7ms/step\n"
     ]
    },
    {
     "name": "stderr",
     "output_type": "stream",
     "text": [
      "C:\\Users\\Diegopolis\\AppData\\Local\\Temp\\ipykernel_18908\\2642748061.py:65: DeprecationWarning: Conversion of an array with ndim > 0 to a scalar is deprecated, and will error in future. Ensure you extract a single element from your array before performing this operation. (Deprecated NumPy 1.25.)\n",
      "  custom_round = lambda n: int(n) if n - int(n) < threshold else int(n) + 1\n"
     ]
    },
    {
     "name": "stdout",
     "output_type": "stream",
     "text": [
      "\u001b[1m40/40\u001b[0m \u001b[32m━━━━━━━━━━━━━━━━━━━━\u001b[0m\u001b[37m\u001b[0m \u001b[1m0s\u001b[0m 857us/step\n"
     ]
    },
    {
     "name": "stderr",
     "output_type": "stream",
     "text": [
      "C:\\Users\\Diegopolis\\AppData\\Local\\Temp\\ipykernel_18908\\2642748061.py:65: DeprecationWarning: Conversion of an array with ndim > 0 to a scalar is deprecated, and will error in future. Ensure you extract a single element from your array before performing this operation. (Deprecated NumPy 1.25.)\n",
      "  custom_round = lambda n: int(n) if n - int(n) < threshold else int(n) + 1\n"
     ]
    },
    {
     "name": "stdout",
     "output_type": "stream",
     "text": [
      "\u001b[1m40/40\u001b[0m \u001b[32m━━━━━━━━━━━━━━━━━━━━\u001b[0m\u001b[37m\u001b[0m \u001b[1m0s\u001b[0m 450us/step\n"
     ]
    },
    {
     "name": "stderr",
     "output_type": "stream",
     "text": [
      "C:\\Users\\Diegopolis\\AppData\\Local\\Temp\\ipykernel_18908\\2642748061.py:65: DeprecationWarning: Conversion of an array with ndim > 0 to a scalar is deprecated, and will error in future. Ensure you extract a single element from your array before performing this operation. (Deprecated NumPy 1.25.)\n",
      "  custom_round = lambda n: int(n) if n - int(n) < threshold else int(n) + 1\n"
     ]
    },
    {
     "name": "stdout",
     "output_type": "stream",
     "text": [
      "---- Random Seed: 4 ----\n",
      "\u001b[1m40/40\u001b[0m \u001b[32m━━━━━━━━━━━━━━━━━━━━\u001b[0m\u001b[37m\u001b[0m \u001b[1m0s\u001b[0m 6ms/step\n"
     ]
    },
    {
     "name": "stderr",
     "output_type": "stream",
     "text": [
      "C:\\Users\\Diegopolis\\AppData\\Local\\Temp\\ipykernel_18908\\2642748061.py:65: DeprecationWarning: Conversion of an array with ndim > 0 to a scalar is deprecated, and will error in future. Ensure you extract a single element from your array before performing this operation. (Deprecated NumPy 1.25.)\n",
      "  custom_round = lambda n: int(n) if n - int(n) < threshold else int(n) + 1\n"
     ]
    },
    {
     "name": "stdout",
     "output_type": "stream",
     "text": [
      "\u001b[1m40/40\u001b[0m \u001b[32m━━━━━━━━━━━━━━━━━━━━\u001b[0m\u001b[37m\u001b[0m \u001b[1m0s\u001b[0m 808us/step\n"
     ]
    },
    {
     "name": "stderr",
     "output_type": "stream",
     "text": [
      "C:\\Users\\Diegopolis\\AppData\\Local\\Temp\\ipykernel_18908\\2642748061.py:65: DeprecationWarning: Conversion of an array with ndim > 0 to a scalar is deprecated, and will error in future. Ensure you extract a single element from your array before performing this operation. (Deprecated NumPy 1.25.)\n",
      "  custom_round = lambda n: int(n) if n - int(n) < threshold else int(n) + 1\n"
     ]
    },
    {
     "name": "stdout",
     "output_type": "stream",
     "text": [
      "\u001b[1m40/40\u001b[0m \u001b[32m━━━━━━━━━━━━━━━━━━━━\u001b[0m\u001b[37m\u001b[0m \u001b[1m0s\u001b[0m 427us/step\n"
     ]
    },
    {
     "name": "stderr",
     "output_type": "stream",
     "text": [
      "C:\\Users\\Diegopolis\\AppData\\Local\\Temp\\ipykernel_18908\\2642748061.py:65: DeprecationWarning: Conversion of an array with ndim > 0 to a scalar is deprecated, and will error in future. Ensure you extract a single element from your array before performing this operation. (Deprecated NumPy 1.25.)\n",
      "  custom_round = lambda n: int(n) if n - int(n) < threshold else int(n) + 1\n"
     ]
    },
    {
     "name": "stdout",
     "output_type": "stream",
     "text": [
      "----- RNN Average Metrics -----\n",
      "Precision Avg: 0.8520\n",
      "Recall Avg: 0.8510\n",
      "Fscore Avg: 0.8510\n",
      "\n",
      "\n",
      "----- CNN Average Metrics -----\n",
      "Precision Avg: 0.8716\n",
      "Recall Avg: 0.8715\n",
      "Fscore Avg: 0.8715\n",
      "\n",
      "\n",
      "----- NN Average Metrics -----\n",
      "Precision Avg: 0.8660\n",
      "Recall Avg: 0.8651\n",
      "Fscore Avg: 0.8651\n",
      "\n",
      "\n",
      "----- Logisti Regression Average Metrics -----\n",
      "Precision Avg: 0.8519\n",
      "Recall Avg: 0.8512\n",
      "Fscore Avg: 0.8512\n",
      "\n",
      "\n",
      "----- Gaussian Naive Bayes Average Metrics -----\n",
      "Precision Avg: 0.7846\n",
      "Recall Avg: 0.7827\n",
      "Fscore Avg: 0.7826\n",
      "\n",
      "\n",
      "----- Rando Forest Average Metrics -----\n",
      "Precision Avg: 0.8167\n",
      "Recall Avg: 0.8152\n",
      "Fscore Avg: 0.8151\n",
      "\n",
      "\n",
      "----- KNN Average Metrics -----\n",
      "Precision Avg: 0.7864\n",
      "Recall Avg: 0.7859\n",
      "Fscore Avg: 0.7858\n",
      "\n",
      "\n"
     ]
    },
    {
     "data": {
      "image/png": "[encoded data removed]",
      "text/plain": [
       "<Figure size 1000x600 with 1 Axes>"
      ]
     },
     "metadata": {},
     "output_type": "display_data"
    }
   ],
   "source": [
    "all_seeeds_results = compare_seeds(train_test_sets,'embeddings')"
   ]
  },
  {
   "cell_type": "code",
   "execution_count": 52,
   "metadata": {},
   "outputs": [
    {
     "data": {
      "image/png": "[encoded data removed]",
      "text/plain": [
       "<Figure size 1000x600 with 1 Axes>"
      ]
     },
     "metadata": {},
     "output_type": "display_data"
    }
   ],
   "source": [
    "plot_histograms(all_seeeds_results)"
   ]
  },
  {
   "cell_type": "code",
   "execution_count": null,
   "metadata": {},
   "outputs": [],
   "source": [
    "#X_train, X_test, y_train, y_test = train_test_sets[0]\n",
    "#X_train, X_test = embeddings_features(X_train, X_test)"
   ]
  },
  {
   "cell_type": "code",
   "execution_count": null,
   "metadata": {},
   "outputs": [],
   "source": [
    "X_train, X_test, y_train, y_test = train_test_sets[0]\n",
    "X_train, X_test = embeddings_features(X_train, X_test)\n",
    "X_train = X_train.reshape(5000,32,24)\n",
    "X_test = X_test.reshape(1250,32,24)"
   ]
  },
  {
   "cell_type": "code",
   "execution_count": null,
   "metadata": {},
   "outputs": [],
   "source": [
    "\n"
   ]
  },
  {
   "cell_type": "code",
   "execution_count": null,
   "metadata": {},
   "outputs": [],
   "source": [
    "y_pred = train_nn(model,X_train, y_train, X_test, y_test)\n",
    "precision_recall_fscore_support(y_test, y_pred, average='weighted')"
   ]
  },
  {
   "cell_type": "code",
   "execution_count": null,
   "metadata": {},
   "outputs": [],
   "source": [
    "from keras.layers import Conv1D, Input, Dense,MaxPooling1D, Flatten, Dropout\n",
    "X_train =X_train.reshape(5000,32,24)\n",
    "X_test = X_test.reshape(1250,32,24)\n",
    "model = keras.Sequential([\n",
    "    Input(shape=(32,24)),\n",
    "    Conv1D(32, 5, activation='relu'),\n",
    "    Dropout(0.2),\n",
    "    MaxPooling1D(2),\n",
    "    Conv1D(32, 5, activation='relu'),\n",
    "    Dropout(0.2),\n",
    "    MaxPooling1D(2),\n",
    "    Flatten(),\n",
    "\n",
    "    Dense(20, activation='relu'),\n",
    "\n",
    "    Dense(1, activation='sigmoid')\n",
    "])\n",
    "model.compile(optimizer='adam', loss='binary_crossentropy', metrics=['accuracy'])\n",
    "model.fit(X_train, y_train, epochs=50, batch_size=32, validation_data=(X_test, y_test), callbacks=[keras.callbacks.EarlyStopping(monitor='val_loss', patience=3)],verbose=1)\n"
   ]
  }
 ],
 "metadata": {
  "kernelspec": {
   "display_name": "Python 3",
   "language": "python",
   "name": "python3"
  },
  "language_info": {
   "codemirror_mode": {
    "name": "ipython",
    "version": 3
   },
   "file_extension": ".py",
   "mimetype": "text/x-python",
   "name": "python",
   "nbconvert_exporter": "python",
   "pygments_lexer": "ipython3",
   "version": "3.12.3"
  }
 },
 "nbformat": 4,
 "nbformat_minor": 2
}
